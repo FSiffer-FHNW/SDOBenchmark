{
 "cells": [
  {
   "cell_type": "code",
   "execution_count": 33,
   "metadata": {},
   "outputs": [
    {
     "name": "stdout",
     "output_type": "stream",
     "text": [
      "L1 train: 2.814357237099039e-06\n",
      "L1 test: 9.807379325765395e-06\n"
     ]
    }
   ],
   "source": [
    "import pandas as pd\n",
    "import numpy as np\n",
    "\n",
    "base_path = 'C:\\\\Users\\\\Roman Bolzern\\\\Desktop\\\\D4\\\\'\n",
    "train = pd.read_csv(base_path + 'train.csv', sep=\";\", parse_dates=[\"start\",\"end\",\"peak\"], index_col=\"id\")\n",
    "test = pd.read_csv(base_path + 'test.csv', sep=\";\", parse_dates=[\"start\",\"end\",\"peak\"], index_col=\"id\")\n",
    "\n",
    "predict_val = 0.000000917647058823529 # optimal fix prediction\n",
    "\n",
    "# evaluate\n",
    "print(f'L1 train: {np.sum(np.abs(np.array(train.peak_flux)-predict_val)) / len(train.peak_flux)}')\n",
    "print(f'L1 test: {np.sum(np.abs(np.array(test.peak_flux)-predict_val)) / len(test.peak_flux)}')"
   ]
  },
  {
   "cell_type": "code",
   "execution_count": null,
   "metadata": {},
   "outputs": [],
   "source": []
  }
 ],
 "metadata": {
  "kernelspec": {
   "display_name": "Python 3",
   "language": "python",
   "name": "python3"
  },
  "language_info": {
   "codemirror_mode": {
    "name": "ipython",
    "version": 3
   },
   "file_extension": ".py",
   "mimetype": "text/x-python",
   "name": "python",
   "nbconvert_exporter": "python",
   "pygments_lexer": "ipython3",
   "version": "3.6.4"
  }
 },
 "nbformat": 4,
 "nbformat_minor": 1
}
