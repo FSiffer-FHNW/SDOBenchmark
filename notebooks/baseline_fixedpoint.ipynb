{
 "cells": [
  {
   "cell_type": "markdown",
   "metadata": {},
   "source": [
    "### Fixed point baseline\n",
    "*Mean absolute error* for predicting all flares with the same fixed peak_flux"
   ]
  },
  {
   "cell_type": "code",
   "execution_count": 4,
   "metadata": {},
   "outputs": [
    {
     "name": "stdout",
     "output_type": "stream",
     "text": [
      "Mean absolute errors:\n",
      "train: 3.3363243655142895e-06\n",
      "test:  1.5358676404195967e-05\n"
     ]
    }
   ],
   "source": [
    "import pandas as pd\n",
    "import numpy as np\n",
    "\n",
    "base_path = 'C:\\\\Users\\\\Roman Bolzern\\\\Desktop\\\\D4\\\\'\n",
    "train = pd.read_csv(base_path + 'training/meta_data.csv', sep=\",\", parse_dates=[\"start\",\"end\"], index_col=\"id\")\n",
    "test = pd.read_csv(base_path + 'test/meta_data.csv', sep=\",\", parse_dates=[\"start\",\"end\"], index_col=\"id\")\n",
    "\n",
    "# optimal fixed point prediction, solved by optimization\n",
    "# Always predict the same small flare (\"B5\")\n",
    "predict_val = 5.29411764705883E-07\n",
    "\n",
    "# evaluate\n",
    "print('Mean absolute errors:')\n",
    "print(f'train: {np.mean(np.abs(train.peak_flux-predict_val))}')\n",
    "print(f'test:  {np.mean(np.abs(test.peak_flux-predict_val))}')"
   ]
  },
  {
   "cell_type": "code",
   "execution_count": 7,
   "metadata": {},
   "outputs": [
    {
     "name": "stdout",
     "output_type": "stream",
     "text": [
      "TSS train: 0.0\n",
      "TSS test: 0.0\n"
     ]
    }
   ],
   "source": [
    "from utils.statistics import *\n",
    "\n",
    "y_pred = np.repeat(predict_val, len(train.peak_flux))\n",
    "print(f'TSS train: {true_skill_statistic(train.peak_flux, y_pred)}')\n",
    "\n",
    "y_pred = np.repeat(predict_val, len(test.peak_flux))\n",
    "print(f'TSS test: {true_skill_statistic(test.peak_flux, y_pred)}')"
   ]
  }
 ],
 "metadata": {
  "kernelspec": {
   "display_name": "Python 3",
   "language": "python",
   "name": "python3"
  },
  "language_info": {
   "codemirror_mode": {
    "name": "ipython",
    "version": 3
   },
   "file_extension": ".py",
   "mimetype": "text/x-python",
   "name": "python",
   "nbconvert_exporter": "python",
   "pygments_lexer": "ipython3",
   "version": "3.6.4"
  }
 },
 "nbformat": 4,
 "nbformat_minor": 2
}
