{
 "cells": [
  {
   "cell_type": "markdown",
   "metadata": {},
   "source": [
    "### Fixed point baseline\n",
    "*Mean absolute error* for predicting all flares with the same fixed peak_flux"
   ]
  },
  {
   "cell_type": "code",
   "execution_count": 200,
   "metadata": {},
   "outputs": [
    {
     "name": "stdout",
     "output_type": "stream",
     "text": [
      "Mean absolute errors:\n",
      "train: 2.814357237099039e-06\n",
      "test:  9.807379325765395e-06\n"
     ]
    }
   ],
   "source": [
    "import pandas as pd\n",
    "import numpy as np\n",
    "\n",
    "base_path = 'C:\\\\Users\\\\Roman Bolzern\\\\Desktop\\\\D4\\\\'\n",
    "train = pd.read_csv(base_path + 'train.csv', sep=\";\", parse_dates=[\"start\",\"end\",\"peak\"], index_col=\"id\")\n",
    "test = pd.read_csv(base_path + 'test.csv', sep=\";\", parse_dates=[\"start\",\"end\",\"peak\"], index_col=\"id\")\n",
    "\n",
    "# optimal fixed point prediction\n",
    "# solved by optimization\n",
    "predict_val = 9.17647058823529e-7\n",
    "\n",
    "# evaluate\n",
    "print('Mean absolute errors:')\n",
    "print(f'train: {np.mean(np.abs(np.array(train.peak_flux)-predict_val))}')\n",
    "print(f'test:  {np.mean(np.abs(np.array(test.peak_flux)-predict_val))}')"
   ]
  },
  {
   "cell_type": "code",
   "execution_count": 201,
   "metadata": {},
   "outputs": [
    {
     "name": "stdout",
     "output_type": "stream",
     "text": [
      "TSS train: 0.0\n",
      "HSS train: 0.9458101561098152\n",
      "TSS train: 0.0\n",
      "HSS train: 0.8368421052631579\n"
     ]
    }
   ],
   "source": [
    "from utils.statistics import *\n",
    "\n",
    "y_pred = np.repeat(predict_val, len(train.peak_flux))\n",
    "print(f'TSS train: {true_skill_statistic(train.peak_flux, y_pred)}')\n",
    "print(f'HSS train: {heidke_skill_score(train.peak_flux, y_pred)}')\n",
    "\n",
    "y_pred = np.repeat(predict_val, len(test.peak_flux))\n",
    "print(f'TSS train: {true_skill_statistic(test.peak_flux, y_pred)}')\n",
    "print(f'HSS train: {heidke_skill_score(test.peak_flux, y_pred)}')"
   ]
  }
 ],
 "metadata": {
  "kernelspec": {
   "display_name": "Python 3",
   "language": "python",
   "name": "python3"
  },
  "language_info": {
   "codemirror_mode": {
    "name": "ipython",
    "version": 3
   },
   "file_extension": ".py",
   "mimetype": "text/x-python",
   "name": "python",
   "nbconvert_exporter": "python",
   "pygments_lexer": "ipython3",
   "version": "3.6.4"
  }
 },
 "nbformat": 4,
 "nbformat_minor": 1
}
