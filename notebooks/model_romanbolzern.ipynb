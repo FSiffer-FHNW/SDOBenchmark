{
 "cells": [
  {
   "cell_type": "markdown",
   "metadata": {},
   "source": [
    "# Competitive model\n",
    "My personal entry for the SDOBenchmark consists of a model trained on a categorization of the label *peak_flux*. This model performs predictions with a **True Skill Statistic** of **0.45** and a converted **Mean Absolute Error** of **3.6e-5**. In other words, it is better than random or constant predictions, but is far from any reliable prediction.\n",
    "I use the *HMI magnetogram* and *AIA 304, 131 and 1700* as inputs, alongside the date of the event."
   ]
  },
  {
   "cell_type": "markdown",
   "metadata": {},
   "source": [
    "An evaluation of the model can be found at https://www.kaggle.com/doidel/competitive-model\n",
    "The model formulation can be found at https://github.com/i4Ds/SDOBenchmark/blob/master/notebooks/model_formulation_romanbolzern.py"
   ]
  }
 ],
 "metadata": {
  "kernelspec": {
   "display_name": "Python 3",
   "language": "python",
   "name": "python3"
  },
  "language_info": {
   "codemirror_mode": {
    "name": "ipython",
    "version": 3
   },
   "file_extension": ".py",
   "mimetype": "text/x-python",
   "name": "python",
   "nbconvert_exporter": "python",
   "pygments_lexer": "ipython3",
   "version": "3.6.4"
  }
 },
 "nbformat": 4,
 "nbformat_minor": 2
}
