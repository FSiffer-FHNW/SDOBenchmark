{
 "cells": [
  {
   "cell_type": "code",
   "execution_count": 2,
   "metadata": {},
   "outputs": [],
   "source": [
    "import pandas as pd\n",
    "import numpy as np\n",
    "import math\n",
    "from typing import List, Tuple, Dict, Optional\n",
    "\n",
    "csv_path = 'C:\\\\Users\\\\Roman Bolzern\\\\Desktop\\\\D4\\\\samples_training_2012-01-01T000000_2018-01-01T000000.csv'\n",
    "train = pd.read_csv(csv_path, sep=\";\", parse_dates=[\"start\",\"end\",\"peak\"], index_col=\"id\")"
   ]
  },
  {
   "cell_type": "markdown",
   "metadata": {},
   "source": [
    "*flux_to_class* maps the peak_flux of a flare to one of the following descriptors:\n",
    "\n",
    "*free* = 1e-9, *B* >= 1e-7, *C* >= 1e-6, *M* >= 1e-5, and *X* >= 1e-4"
   ]
  },
  {
   "cell_type": "code",
   "execution_count": 3,
   "metadata": {},
   "outputs": [],
   "source": [
    "goes_classes = ['free','A','B','C','M','X']\n",
    "\n",
    "def flux_to_class(f: float, only_main=False):\n",
    "    'Maps flux values to GOES classes'\n",
    "    f = math.log10(f)\n",
    "    main_class = goes_classes[min(int(f+9), 5)]\n",
    "    sub_class = str(f)[2:4] if main_class != 'free' and only_main != True else ''\n",
    "    return main_class + sub_class\n",
    "\n",
    "def class_to_flux(c: str):\n",
    "    log = goes_classes.index(c[0] if c != 'free' else c)-9\n",
    "    sub = float(c[1:])/10 if c != 'free' else 0\n",
    "    return math.pow(10, log+sub)"
   ]
  },
  {
   "cell_type": "markdown",
   "metadata": {},
   "source": [
    "### Class counts\n",
    "Examine the imbalance of flare strengths.\n",
    "\n",
    "The \"unique ARs\" describes from how many different active region numbers (noaa_num) the flares come from."
   ]
  },
  {
   "cell_type": "code",
   "execution_count": 4,
   "metadata": {
    "scrolled": true
   },
   "outputs": [
    {
     "data": {
      "text/html": [
       "<div>\n",
       "<style scoped>\n",
       "    .dataframe tbody tr th:only-of-type {\n",
       "        vertical-align: middle;\n",
       "    }\n",
       "\n",
       "    .dataframe tbody tr th {\n",
       "        vertical-align: top;\n",
       "    }\n",
       "\n",
       "    .dataframe thead th {\n",
       "        text-align: right;\n",
       "    }\n",
       "</style>\n",
       "<table border=\"1\" class=\"dataframe\">\n",
       "  <thead>\n",
       "    <tr style=\"text-align: right;\">\n",
       "      <th></th>\n",
       "      <th>samples</th>\n",
       "      <th>unique ARs</th>\n",
       "    </tr>\n",
       "  </thead>\n",
       "  <tbody>\n",
       "    <tr>\n",
       "      <th>B</th>\n",
       "      <td>2173</td>\n",
       "      <td>117</td>\n",
       "    </tr>\n",
       "    <tr>\n",
       "      <th>C</th>\n",
       "      <td>4783</td>\n",
       "      <td>413</td>\n",
       "    </tr>\n",
       "    <tr>\n",
       "      <th>M</th>\n",
       "      <td>574</td>\n",
       "      <td>97</td>\n",
       "    </tr>\n",
       "    <tr>\n",
       "      <th>X</th>\n",
       "      <td>30</td>\n",
       "      <td>14</td>\n",
       "    </tr>\n",
       "    <tr>\n",
       "      <th>free</th>\n",
       "      <td>3586</td>\n",
       "      <td>450</td>\n",
       "    </tr>\n",
       "  </tbody>\n",
       "</table>\n",
       "</div>"
      ],
      "text/plain": [
       "      samples  unique ARs\n",
       "B        2173         117\n",
       "C        4783         413\n",
       "M         574          97\n",
       "X          30          14\n",
       "free     3586         450"
      ]
     },
     "execution_count": 4,
     "metadata": {},
     "output_type": "execute_result"
    }
   ],
   "source": [
    "noaa_nums = np.unique(train[\"noaa_num\"])\n",
    "classes_samples = [flux_to_class(pf, only_main=True) for pf in train[\"peak_flux\"]]\n",
    "max_classes_ARs = [flux_to_class(max(train[train[\"noaa_num\"] == noaa_num][\"peak_flux\"]), only_main=True) for noaa_num in noaa_nums]\n",
    "classes, counts_samples = np.unique(classes_samples, return_counts=True)\n",
    "classes, counts_ARs = np.unique(max_classes_ARs, return_counts=True)\n",
    "pd.DataFrame(data={\"samples\":counts_samples, \"unique ARs\":counts_ARs}, index=classes)"
   ]
  },
  {
   "cell_type": "markdown",
   "metadata": {},
   "source": [
    "### Divergence HEK vs GOES peak flux\n",
    "Difference of manual labels by experts (HEK) with the recorded flux on the sun (GOES) on a log scale"
   ]
  },
  {
   "cell_type": "code",
   "execution_count": 146,
   "metadata": {},
   "outputs": [
    {
     "name": "stdout",
     "output_type": "stream",
     "text": [
      "MSE: 0.02377278293312221\n",
      "L1:  0.11190021771996904\n",
      "Max: 0.2740495298652945\n"
     ]
    },
    {
     "data": {
      "text/plain": [
       "<matplotlib.axes._subplots.AxesSubplot at 0x1dcf50bb080>"
      ]
     },
     "execution_count": 146,
     "metadata": {},
     "output_type": "execute_result"
    },
    {
     "data": {
      "image/png": "[encoded data removed]",
      "text/plain": [
       "<matplotlib.figure.Figure at 0x1dcee965d30>"
      ]
     },
     "metadata": {},
     "output_type": "display_data"
    }
   ],
   "source": [
    "train['flux_from_hek'] = [class_to_flux(t) for t in train['type']]\n",
    "logdiff = np.log10(train['flux_from_hek']) - np.log10(train['peak_flux'])\n",
    "mse = (logdiff ** 2).mean()\n",
    "l1 = abs(logdiff).mean()\n",
    "print(f'MSE: {mse}')\n",
    "print(f'L1:  {l1}')\n",
    "print(f'Max: {max(abs(logdiff))}')\n",
    "abs(logdiff).hist(bins=30)"
   ]
  }
 ],
 "metadata": {
  "kernelspec": {
   "display_name": "Python 3",
   "language": "python",
   "name": "python3"
  },
  "language_info": {
   "codemirror_mode": {
    "name": "ipython",
    "version": 3
   },
   "file_extension": ".py",
   "mimetype": "text/x-python",
   "name": "python",
   "nbconvert_exporter": "python",
   "pygments_lexer": "ipython3",
   "version": "3.6.4"
  }
 },
 "nbformat": 4,
 "nbformat_minor": 2
}
