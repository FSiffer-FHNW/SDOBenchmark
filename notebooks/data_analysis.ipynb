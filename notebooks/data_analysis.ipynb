{
 "cells": [
  {
   "cell_type": "code",
   "execution_count": 1,
   "metadata": {},
   "outputs": [],
   "source": [
    "import pandas as pd\n",
    "import numpy as np\n",
    "from utils.statistics import *\n",
    "\n",
    "csv_path = '/media/all/D4/output/2012-01-01T000000_2018-01-01T000000/training/meta_data.csv'\n",
    "train = pd.read_csv(csv_path, sep=\";\", parse_dates=[\"start\",\"end\"], index_col=\"id\")"
   ]
  },
  {
   "cell_type": "markdown",
   "metadata": {},
   "source": [
    "### Class counts\n",
    "Examine the imbalance of flare strengths.\n",
    "\n",
    "*flux_to_class* maps the peak_flux of a flare to one of the following descriptors:\n",
    "**free** = 1e-9, **B** >= 1e-7, **C** >= 1e-6, **M** >= 1e-5, and **X** >= 1e-4\n",
    "\n",
    "The \"unique ARs\" describes from how many different active region numbers (noaa_num) the flares come from."
   ]
  },
  {
   "cell_type": "code",
   "execution_count": 2,
   "metadata": {
    "scrolled": true
   },
   "outputs": [
    {
     "data": {
      "text/html": [
       "<div>\n",
       "<style scoped>\n",
       "    .dataframe tbody tr th:only-of-type {\n",
       "        vertical-align: middle;\n",
       "    }\n",
       "\n",
       "    .dataframe tbody tr th {\n",
       "        vertical-align: top;\n",
       "    }\n",
       "\n",
       "    .dataframe thead th {\n",
       "        text-align: right;\n",
       "    }\n",
       "</style>\n",
       "<table border=\"1\" class=\"dataframe\">\n",
       "  <thead>\n",
       "    <tr style=\"text-align: right;\">\n",
       "      <th></th>\n",
       "      <th>samples</th>\n",
       "      <th>unique ARs</th>\n",
       "    </tr>\n",
       "  </thead>\n",
       "  <tbody>\n",
       "    <tr>\n",
       "      <th>B</th>\n",
       "      <td>2175</td>\n",
       "      <td>119</td>\n",
       "    </tr>\n",
       "    <tr>\n",
       "      <th>C</th>\n",
       "      <td>4790</td>\n",
       "      <td>412</td>\n",
       "    </tr>\n",
       "    <tr>\n",
       "      <th>M</th>\n",
       "      <td>568</td>\n",
       "      <td>97</td>\n",
       "    </tr>\n",
       "    <tr>\n",
       "      <th>X</th>\n",
       "      <td>28</td>\n",
       "      <td>13</td>\n",
       "    </tr>\n",
       "    <tr>\n",
       "      <th>free</th>\n",
       "      <td>3593</td>\n",
       "      <td>450</td>\n",
       "    </tr>\n",
       "  </tbody>\n",
       "</table>\n",
       "</div>"
      ],
      "text/plain": [
       "      samples  unique ARs\n",
       "B        2175         119\n",
       "C        4790         412\n",
       "M         568          97\n",
       "X          28          13\n",
       "free     3593         450"
      ]
     },
     "execution_count": 2,
     "metadata": {},
     "output_type": "execute_result"
    }
   ],
   "source": [
    "noaa_nums = np.unique(train[\"noaa_num\"])\n",
    "classes_samples = [flux_to_class(pf, only_main=True) for pf in train[\"peak_flux\"]]\n",
    "max_classes_ARs = [flux_to_class(max(train[train[\"noaa_num\"] == noaa_num][\"peak_flux\"]), only_main=True) for noaa_num in noaa_nums]\n",
    "classes, counts_samples = np.unique(classes_samples, return_counts=True)\n",
    "classes, counts_ARs = np.unique(max_classes_ARs, return_counts=True)\n",
    "pd.DataFrame(data={\"samples\":counts_samples, \"unique ARs\":counts_ARs}, index=classes)"
   ]
  },
  {
   "cell_type": "markdown",
   "metadata": {},
   "source": [
    "### Detector degradation\n",
    "Here we coarsely examine the degradation of the AIA and HMI detectors over the 6-year period of the data"
   ]
  },
  {
   "cell_type": "code",
   "execution_count": null,
   "metadata": {},
   "outputs": [],
   "source": [
    "import os\n",
    "train_degrad = train.sort_values(by=['start']).groupby(pd.Grouper(key='start',freq='M'))\n",
    "for name, group in train_degrad:\n",
    "    print(name)\n",
    "    print(group)"
   ]
  },
  {
   "cell_type": "markdown",
   "metadata": {},
   "source": [
    "### Divergence HEK vs GOES peak flux\n",
    "Difference of manual labels by experts (HEK) with the recorded flux on the sun (GOES) on a **log** scale.\n",
    "The purpose of this is to examine the stability of the labels."
   ]
  },
  {
   "cell_type": "code",
   "execution_count": 6,
   "metadata": {},
   "outputs": [
    {
     "name": "stdout",
     "output_type": "stream",
     "text": [
      "MSE: 0.0016047341898903556\n",
      "L1:  0.022736040873996673\n",
      "Max: 0.07058107428570715\n"
     ]
    },
    {
     "data": {
      "text/plain": [
       "<matplotlib.axes._subplots.AxesSubplot at 0x14501d2c160>"
      ]
     },
     "execution_count": 6,
     "metadata": {},
     "output_type": "execute_result"
    },
    {
     "data": {
      "image/png": "[encoded data removed]",
      "text/plain": [
       "<matplotlib.figure.Figure at 0x145017b7a58>"
      ]
     },
     "metadata": {},
     "output_type": "display_data"
    }
   ],
   "source": [
    "train['flux_from_hek'] = [class_to_flux(t) / 0.85 for t in train['type']]\n",
    "# 0.85 = correction factor, see https://www.ngdc.noaa.gov/stp/satellite/goes/doc/GOES_XRS_readme.pdf\n",
    "logdiff = np.log10(train['flux_from_hek']) - np.log10(train['peak_flux'])\n",
    "mse = (logdiff ** 2).mean()\n",
    "l1 = abs(logdiff).mean()\n",
    "print(f'MSE: {mse}')\n",
    "print(f'L1:  {l1}')\n",
    "print(f'Max: {max(abs(logdiff))}')\n",
    "abs(logdiff).hist(bins=30)"
   ]
  },
  {
   "cell_type": "code",
   "execution_count": null,
   "metadata": {},
   "outputs": [],
   "source": []
  }
 ],
 "metadata": {
  "kernelspec": {
   "display_name": "Python 3",
   "language": "python",
   "name": "python3"
  },
  "language_info": {
   "codemirror_mode": {
    "name": "ipython",
    "version": 3
   },
   "file_extension": ".py",
   "mimetype": "text/x-python",
   "name": "python",
   "nbconvert_exporter": "python",
   "pygments_lexer": "ipython3",
   "version": "3.6.4"
  }
 },
 "nbformat": 4,
 "nbformat_minor": 2
}
