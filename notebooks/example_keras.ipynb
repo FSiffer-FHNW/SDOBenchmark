{
 "cells": [
  {
   "cell_type": "code",
   "execution_count": 2,
   "metadata": {},
   "outputs": [
    {
     "ename": "ModuleNotFoundError",
     "evalue": "No module named 'keras'",
     "traceback": [
      "\u001b[1;31m---------------------------------------------------------------------------\u001b[0m",
      "\u001b[1;31mModuleNotFoundError\u001b[0m                       Traceback (most recent call last)",
      "\u001b[1;32m<ipython-input-2-9ac82704ac2c>\u001b[0m in \u001b[0;36m<module>\u001b[1;34m()\u001b[0m\n\u001b[0;32m      1\u001b[0m \u001b[1;32mimport\u001b[0m \u001b[0mpandas\u001b[0m \u001b[1;32mas\u001b[0m \u001b[0mpd\u001b[0m\u001b[1;33m\u001b[0m\u001b[0m\n\u001b[0;32m      2\u001b[0m \u001b[1;32mimport\u001b[0m \u001b[0mnumpy\u001b[0m \u001b[1;32mas\u001b[0m \u001b[0mnp\u001b[0m\u001b[1;33m\u001b[0m\u001b[0m\n\u001b[1;32m----> 3\u001b[1;33m \u001b[1;32mimport\u001b[0m \u001b[0mkeras\u001b[0m\u001b[1;33m\u001b[0m\u001b[0m\n\u001b[0m\u001b[0;32m      4\u001b[0m \u001b[1;32mfrom\u001b[0m \u001b[0mkeras\u001b[0m\u001b[1;33m.\u001b[0m\u001b[0mmodels\u001b[0m \u001b[1;32mimport\u001b[0m \u001b[0mSequential\u001b[0m\u001b[1;33m\u001b[0m\u001b[0m\n\u001b[0;32m      5\u001b[0m \u001b[1;32mfrom\u001b[0m \u001b[0mkeras\u001b[0m\u001b[1;33m.\u001b[0m\u001b[0mlayers\u001b[0m \u001b[1;32mimport\u001b[0m \u001b[0mDense\u001b[0m\u001b[1;33m,\u001b[0m \u001b[0mDropout\u001b[0m\u001b[1;33m,\u001b[0m \u001b[0mFlatten\u001b[0m\u001b[1;33m\u001b[0m\u001b[0m\n",
      "\u001b[1;31mModuleNotFoundError\u001b[0m: No module named 'keras'"
     ],
     "output_type": "error"
    }
   ],
   "source": [
    "import pandas as pd\n",
    "import numpy as np\n",
    "import os.path\n",
    "import keras\n",
    "from keras.models import Sequential, Model\n",
    "from keras.layers import Dense, Dropout, Flatten, TimeDistributed, Input\n",
    "from keras.layers import Conv2D, Conv3D, MaxPooling2D, LSTM, GRU\n",
    "from keras.layers.normalization import BatchNormalization\n",
    "from keras.optimizers import Adam\n",
    "\n",
    "base_path = 'C:\\\\Users\\\\Roman Bolzern\\\\Desktop\\\\D4\\\\'"
   ]
  },
  {
   "cell_type": "markdown",
   "metadata": {},
   "source": [
    "### HMI magnetogram only"
   ]
  },
  {
   "cell_type": "code",
   "execution_count": null,
   "metadata": {},
   "outputs": [],
   "source": [
    "from notebooks.utils.keras_generator import SDOBenchmarkGenerator\n",
    "\n",
    "# Parameters\n",
    "params = {'dim': (256, 256, 4),\n",
    "          'batch_size': 32,\n",
    "          'shuffle': True}\n",
    "\n",
    "# Generators\n",
    "training_generator = SDOBenchmarkGenerator(os.path.join(base_path, 'train'), **params)\n",
    "validation_generator = SDOBenchmarkGenerator(os.path.join(base_path, 'test'), **params)\n",
    "\n",
    "# Design model\n",
    "hmi_input = Input(shape=(256, 256, 4), dtype='uint8', name='main_input')\n",
    "hmi = Conv2D(32, (3, 3), activation='relu')(hmi_input)\n",
    "hmi = BatchNormalization()(hmi)\n",
    "hmi = Conv2D(32, (3, 3), activation='relu')(hmi)\n",
    "hmi = MaxPooling2D(pool_size=(2, 2))(hmi)\n",
    "hmi = Dropout(0.25)(hmi)\n",
    "hmi = BatchNormalization()(hmi)\n",
    "hmi = Conv2D(64, (3, 3), activation='relu')(hmi)\n",
    "hmi = BatchNormalization()(hmi)\n",
    "hmi = Conv2D(64, (3, 3), activation='relu')(hmi)\n",
    "hmi = MaxPooling2D(pool_size=(2, 2))(hmi)\n",
    "hmi = Dropout(0.25)(hmi)\n",
    "#hmi_auxiliary_output = Dense(1, activation='sigmoid', name='hmi_aux_output')(hmi)\n",
    "hmi = BatchNormalization()(hmi)\n",
    "\n",
    "date_input = Input(shape=(1,), name='date_input')\n",
    "x = keras.layers.concatenate([hmi, date_input])\n",
    "\n",
    "x = Dense(64, activation='relu')(x)\n",
    "x = BatchNormalization()(x)\n",
    "x = Dense(64, activation='relu')(x)\n",
    "main_output = Dense(1, activation='sigmoid', name='main_output')(x)\n",
    "\n",
    "model = Model(inputs=[hmi_input, date_input], outputs=[main_output])\n",
    "\n",
    "model.compile(optimizer=Adam(), loss='binary_crossentropy', loss_weights=[1.])\n",
    "\n",
    "# Train model on dataset\n",
    "model.fit_generator(generator=training_generator,\n",
    "                    validation_data=validation_generator,\n",
    "                    use_multiprocessing=True,\n",
    "                    workers=6)"
   ]
  }
 ],
 "metadata": {
  "kernelspec": {
   "display_name": "Python 3",
   "language": "python",
   "name": "python3"
  },
  "language_info": {
   "codemirror_mode": {
    "name": "ipython",
    "version": 3
   },
   "file_extension": ".py",
   "mimetype": "text/x-python",
   "name": "python",
   "nbconvert_exporter": "python",
   "pygments_lexer": "ipython3",
   "version": "3.6.4"
  }
 },
 "nbformat": 4,
 "nbformat_minor": 1
}
